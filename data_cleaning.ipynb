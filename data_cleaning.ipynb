{
 "cells": [
  {
   "cell_type": "code",
   "execution_count": 1,
   "metadata": {},
   "outputs": [
    {
     "data": {
      "text/html": [
       "<div>\n",
       "<style scoped>\n",
       "    .dataframe tbody tr th:only-of-type {\n",
       "        vertical-align: middle;\n",
       "    }\n",
       "\n",
       "    .dataframe tbody tr th {\n",
       "        vertical-align: top;\n",
       "    }\n",
       "\n",
       "    .dataframe thead th {\n",
       "        text-align: right;\n",
       "    }\n",
       "</style>\n",
       "<table border=\"1\" class=\"dataframe\">\n",
       "  <thead>\n",
       "    <tr style=\"text-align: right;\">\n",
       "      <th></th>\n",
       "      <th>Year</th>\n",
       "      <th>United States</th>\n",
       "      <th>South</th>\n",
       "      <th>West</th>\n",
       "    </tr>\n",
       "  </thead>\n",
       "  <tbody>\n",
       "    <tr>\n",
       "      <th>0</th>\n",
       "      <td>1963</td>\n",
       "      <td>560</td>\n",
       "      <td>199</td>\n",
       "      <td>141</td>\n",
       "    </tr>\n",
       "    <tr>\n",
       "      <th>1</th>\n",
       "      <td>1964</td>\n",
       "      <td>565</td>\n",
       "      <td>200</td>\n",
       "      <td>129</td>\n",
       "    </tr>\n",
       "    <tr>\n",
       "      <th>2</th>\n",
       "      <td>1965</td>\n",
       "      <td>575</td>\n",
       "      <td>210</td>\n",
       "      <td>129</td>\n",
       "    </tr>\n",
       "    <tr>\n",
       "      <th>3</th>\n",
       "      <td>1966</td>\n",
       "      <td>461</td>\n",
       "      <td>166</td>\n",
       "      <td>99</td>\n",
       "    </tr>\n",
       "    <tr>\n",
       "      <th>4</th>\n",
       "      <td>1967</td>\n",
       "      <td>487</td>\n",
       "      <td>179</td>\n",
       "      <td>119</td>\n",
       "    </tr>\n",
       "  </tbody>\n",
       "</table>\n",
       "</div>"
      ],
      "text/plain": [
       "   Year  United States  South  West\n",
       "0  1963            560    199   141\n",
       "1  1964            565    200   129\n",
       "2  1965            575    210   129\n",
       "3  1966            461    166    99\n",
       "4  1967            487    179   119"
      ]
     },
     "execution_count": 1,
     "metadata": {},
     "output_type": "execute_result"
    }
   ],
   "source": [
    "import pandas as pd\n",
    "import csv\n",
    "import matplotlib.pyplot as plt\n",
    "from scipy import stats\n",
    "import numpy as np\n",
    "%matplotlib notebook\n",
    "\n",
    "csvpath = \"Resources\\CensusData.csv\"\n",
    "\n",
    "sales_df = pd.DataFrame(pd.read_csv(csvpath))\n",
    "sales_df.head()"
   ]
  },
  {
   "cell_type": "code",
   "execution_count": 2,
   "metadata": {},
   "outputs": [
    {
     "data": {
      "text/html": [
       "<div>\n",
       "<style scoped>\n",
       "    .dataframe tbody tr th:only-of-type {\n",
       "        vertical-align: middle;\n",
       "    }\n",
       "\n",
       "    .dataframe tbody tr th {\n",
       "        vertical-align: top;\n",
       "    }\n",
       "\n",
       "    .dataframe thead th {\n",
       "        text-align: right;\n",
       "    }\n",
       "</style>\n",
       "<table border=\"1\" class=\"dataframe\">\n",
       "  <thead>\n",
       "    <tr style=\"text-align: right;\">\n",
       "      <th></th>\n",
       "      <th>Unemployment Rate</th>\n",
       "    </tr>\n",
       "    <tr>\n",
       "      <th>Year</th>\n",
       "      <th></th>\n",
       "    </tr>\n",
       "  </thead>\n",
       "  <tbody>\n",
       "    <tr>\n",
       "      <th>1954</th>\n",
       "      <td>5.650000</td>\n",
       "    </tr>\n",
       "    <tr>\n",
       "      <th>1955</th>\n",
       "      <td>4.366667</td>\n",
       "    </tr>\n",
       "    <tr>\n",
       "      <th>1956</th>\n",
       "      <td>4.125000</td>\n",
       "    </tr>\n",
       "    <tr>\n",
       "      <th>1957</th>\n",
       "      <td>4.300000</td>\n",
       "    </tr>\n",
       "    <tr>\n",
       "      <th>1958</th>\n",
       "      <td>6.841667</td>\n",
       "    </tr>\n",
       "  </tbody>\n",
       "</table>\n",
       "</div>"
      ],
      "text/plain": [
       "      Unemployment Rate\n",
       "Year                   \n",
       "1954           5.650000\n",
       "1955           4.366667\n",
       "1956           4.125000\n",
       "1957           4.300000\n",
       "1958           6.841667"
      ]
     },
     "execution_count": 2,
     "metadata": {},
     "output_type": "execute_result"
    }
   ],
   "source": [
    "csvpath2= \"Resources\\FedData.csv\"\n",
    "rate_df = pd.DataFrame(pd.read_csv(csvpath2))\n",
    "rate_df\n",
    "unemploy_rate= rate_df.groupby([\"Year\"]).mean()['Unemployment Rate']\n",
    "unemploy_rate_df = pd.DataFrame(unemploy_rate)\n",
    "unemploy_rate_df.head()"
   ]
  },
  {
   "cell_type": "code",
   "execution_count": 3,
   "metadata": {},
   "outputs": [
    {
     "data": {
      "text/html": [
       "<div>\n",
       "<style scoped>\n",
       "    .dataframe tbody tr th:only-of-type {\n",
       "        vertical-align: middle;\n",
       "    }\n",
       "\n",
       "    .dataframe tbody tr th {\n",
       "        vertical-align: top;\n",
       "    }\n",
       "\n",
       "    .dataframe thead th {\n",
       "        text-align: right;\n",
       "    }\n",
       "</style>\n",
       "<table border=\"1\" class=\"dataframe\">\n",
       "  <thead>\n",
       "    <tr style=\"text-align: right;\">\n",
       "      <th></th>\n",
       "      <th>Year</th>\n",
       "      <th>United States</th>\n",
       "      <th>South Home Sales</th>\n",
       "      <th>West Home Sales</th>\n",
       "      <th>National Unemployment Rate</th>\n",
       "    </tr>\n",
       "  </thead>\n",
       "  <tbody>\n",
       "    <tr>\n",
       "      <th>0</th>\n",
       "      <td>1963</td>\n",
       "      <td>560.0</td>\n",
       "      <td>199.0</td>\n",
       "      <td>141.0</td>\n",
       "      <td>5.641667</td>\n",
       "    </tr>\n",
       "    <tr>\n",
       "      <th>1</th>\n",
       "      <td>1964</td>\n",
       "      <td>565.0</td>\n",
       "      <td>200.0</td>\n",
       "      <td>129.0</td>\n",
       "      <td>5.158333</td>\n",
       "    </tr>\n",
       "    <tr>\n",
       "      <th>2</th>\n",
       "      <td>1965</td>\n",
       "      <td>575.0</td>\n",
       "      <td>210.0</td>\n",
       "      <td>129.0</td>\n",
       "      <td>4.508333</td>\n",
       "    </tr>\n",
       "    <tr>\n",
       "      <th>3</th>\n",
       "      <td>1966</td>\n",
       "      <td>461.0</td>\n",
       "      <td>166.0</td>\n",
       "      <td>99.0</td>\n",
       "      <td>3.791667</td>\n",
       "    </tr>\n",
       "    <tr>\n",
       "      <th>4</th>\n",
       "      <td>1967</td>\n",
       "      <td>487.0</td>\n",
       "      <td>179.0</td>\n",
       "      <td>119.0</td>\n",
       "      <td>3.841667</td>\n",
       "    </tr>\n",
       "  </tbody>\n",
       "</table>\n",
       "</div>"
      ],
      "text/plain": [
       "   Year  United States  South Home Sales  West Home Sales  \\\n",
       "0  1963          560.0             199.0            141.0   \n",
       "1  1964          565.0             200.0            129.0   \n",
       "2  1965          575.0             210.0            129.0   \n",
       "3  1966          461.0             166.0             99.0   \n",
       "4  1967          487.0             179.0            119.0   \n",
       "\n",
       "   National Unemployment Rate  \n",
       "0                    5.641667  \n",
       "1                    5.158333  \n",
       "2                    4.508333  \n",
       "3                    3.791667  \n",
       "4                    3.841667  "
      ]
     },
     "execution_count": 3,
     "metadata": {},
     "output_type": "execute_result"
    }
   ],
   "source": [
    "sales_unemploy_df = pd.merge(sales_df,unemploy_rate_df, on=\"Year\", how=\"outer\")\n",
    "sales_unemploy_df=sales_unemploy_df.rename(index=str, columns={'Unemployment Rate': 'National Unemployment Rate',\n",
    "                                                               'South':'South Home Sales', \n",
    "                                                              'West': 'West Home Sales'})\n",
    "sales_unemploy_df.head()"
   ]
  },
  {
   "cell_type": "code",
   "execution_count": 4,
   "metadata": {},
   "outputs": [
    {
     "data": {
      "text/html": [
       "<div>\n",
       "<style scoped>\n",
       "    .dataframe tbody tr th:only-of-type {\n",
       "        vertical-align: middle;\n",
       "    }\n",
       "\n",
       "    .dataframe tbody tr th {\n",
       "        vertical-align: top;\n",
       "    }\n",
       "\n",
       "    .dataframe thead th {\n",
       "        text-align: right;\n",
       "    }\n",
       "</style>\n",
       "<table border=\"1\" class=\"dataframe\">\n",
       "  <thead>\n",
       "    <tr style=\"text-align: right;\">\n",
       "      <th></th>\n",
       "      <th>Year</th>\n",
       "      <th>South</th>\n",
       "    </tr>\n",
       "  </thead>\n",
       "  <tbody>\n",
       "    <tr>\n",
       "      <th>0</th>\n",
       "      <td>1980</td>\n",
       "      <td>6.26</td>\n",
       "    </tr>\n",
       "    <tr>\n",
       "      <th>1</th>\n",
       "      <td>1981</td>\n",
       "      <td>6.85</td>\n",
       "    </tr>\n",
       "    <tr>\n",
       "      <th>2</th>\n",
       "      <td>1982</td>\n",
       "      <td>8.78</td>\n",
       "    </tr>\n",
       "    <tr>\n",
       "      <th>3</th>\n",
       "      <td>1983</td>\n",
       "      <td>9.02</td>\n",
       "    </tr>\n",
       "    <tr>\n",
       "      <th>4</th>\n",
       "      <td>1984</td>\n",
       "      <td>7.06</td>\n",
       "    </tr>\n",
       "  </tbody>\n",
       "</table>\n",
       "</div>"
      ],
      "text/plain": [
       "   Year  South\n",
       "0  1980   6.26\n",
       "1  1981   6.85\n",
       "2  1982   8.78\n",
       "3  1983   9.02\n",
       "4  1984   7.06"
      ]
     },
     "execution_count": 4,
     "metadata": {},
     "output_type": "execute_result"
    }
   ],
   "source": [
    "csvpath3=\"Resources\\SouthData.csv\"\n",
    "south_data = pd.DataFrame(pd.read_csv(csvpath3))\n",
    "south_data.head()"
   ]
  },
  {
   "cell_type": "code",
   "execution_count": 5,
   "metadata": {},
   "outputs": [
    {
     "data": {
      "text/html": [
       "<div>\n",
       "<style scoped>\n",
       "    .dataframe tbody tr th:only-of-type {\n",
       "        vertical-align: middle;\n",
       "    }\n",
       "\n",
       "    .dataframe tbody tr th {\n",
       "        vertical-align: top;\n",
       "    }\n",
       "\n",
       "    .dataframe thead th {\n",
       "        text-align: right;\n",
       "    }\n",
       "</style>\n",
       "<table border=\"1\" class=\"dataframe\">\n",
       "  <thead>\n",
       "    <tr style=\"text-align: right;\">\n",
       "      <th></th>\n",
       "      <th>Year</th>\n",
       "      <th>United States</th>\n",
       "      <th>South Home Sales</th>\n",
       "      <th>West Home Sales</th>\n",
       "      <th>National Unemployment Rate</th>\n",
       "      <th>South Unemployment Rate</th>\n",
       "    </tr>\n",
       "  </thead>\n",
       "  <tbody>\n",
       "    <tr>\n",
       "      <th>0</th>\n",
       "      <td>1963</td>\n",
       "      <td>560.0</td>\n",
       "      <td>199.0</td>\n",
       "      <td>141.0</td>\n",
       "      <td>5.641667</td>\n",
       "      <td>NaN</td>\n",
       "    </tr>\n",
       "    <tr>\n",
       "      <th>1</th>\n",
       "      <td>1964</td>\n",
       "      <td>565.0</td>\n",
       "      <td>200.0</td>\n",
       "      <td>129.0</td>\n",
       "      <td>5.158333</td>\n",
       "      <td>NaN</td>\n",
       "    </tr>\n",
       "    <tr>\n",
       "      <th>2</th>\n",
       "      <td>1965</td>\n",
       "      <td>575.0</td>\n",
       "      <td>210.0</td>\n",
       "      <td>129.0</td>\n",
       "      <td>4.508333</td>\n",
       "      <td>NaN</td>\n",
       "    </tr>\n",
       "    <tr>\n",
       "      <th>3</th>\n",
       "      <td>1966</td>\n",
       "      <td>461.0</td>\n",
       "      <td>166.0</td>\n",
       "      <td>99.0</td>\n",
       "      <td>3.791667</td>\n",
       "      <td>NaN</td>\n",
       "    </tr>\n",
       "    <tr>\n",
       "      <th>4</th>\n",
       "      <td>1967</td>\n",
       "      <td>487.0</td>\n",
       "      <td>179.0</td>\n",
       "      <td>119.0</td>\n",
       "      <td>3.841667</td>\n",
       "      <td>NaN</td>\n",
       "    </tr>\n",
       "  </tbody>\n",
       "</table>\n",
       "</div>"
      ],
      "text/plain": [
       "   Year  United States  South Home Sales  West Home Sales  \\\n",
       "0  1963          560.0             199.0            141.0   \n",
       "1  1964          565.0             200.0            129.0   \n",
       "2  1965          575.0             210.0            129.0   \n",
       "3  1966          461.0             166.0             99.0   \n",
       "4  1967          487.0             179.0            119.0   \n",
       "\n",
       "   National Unemployment Rate  South Unemployment Rate  \n",
       "0                    5.641667                      NaN  \n",
       "1                    5.158333                      NaN  \n",
       "2                    4.508333                      NaN  \n",
       "3                    3.791667                      NaN  \n",
       "4                    3.841667                      NaN  "
      ]
     },
     "execution_count": 5,
     "metadata": {},
     "output_type": "execute_result"
    }
   ],
   "source": [
    "add_fl_df = pd.merge(sales_unemploy_df, south_data, on=\"Year\", how=\"outer\")\n",
    "add_fl_df = add_fl_df.rename(index=str, columns={'South': 'South Unemployment Rate'})\n",
    "add_fl_df.head()"
   ]
  },
  {
   "cell_type": "code",
   "execution_count": 6,
   "metadata": {},
   "outputs": [
    {
     "data": {
      "text/html": [
       "<div>\n",
       "<style scoped>\n",
       "    .dataframe tbody tr th:only-of-type {\n",
       "        vertical-align: middle;\n",
       "    }\n",
       "\n",
       "    .dataframe tbody tr th {\n",
       "        vertical-align: top;\n",
       "    }\n",
       "\n",
       "    .dataframe thead th {\n",
       "        text-align: right;\n",
       "    }\n",
       "</style>\n",
       "<table border=\"1\" class=\"dataframe\">\n",
       "  <thead>\n",
       "    <tr style=\"text-align: right;\">\n",
       "      <th></th>\n",
       "      <th>Year</th>\n",
       "      <th>West</th>\n",
       "    </tr>\n",
       "  </thead>\n",
       "  <tbody>\n",
       "    <tr>\n",
       "      <th>0</th>\n",
       "      <td>1980</td>\n",
       "      <td>6.88</td>\n",
       "    </tr>\n",
       "    <tr>\n",
       "      <th>1</th>\n",
       "      <td>1981</td>\n",
       "      <td>7.42</td>\n",
       "    </tr>\n",
       "    <tr>\n",
       "      <th>2</th>\n",
       "      <td>1982</td>\n",
       "      <td>9.86</td>\n",
       "    </tr>\n",
       "    <tr>\n",
       "      <th>3</th>\n",
       "      <td>1983</td>\n",
       "      <td>9.52</td>\n",
       "    </tr>\n",
       "    <tr>\n",
       "      <th>4</th>\n",
       "      <td>1984</td>\n",
       "      <td>7.53</td>\n",
       "    </tr>\n",
       "  </tbody>\n",
       "</table>\n",
       "</div>"
      ],
      "text/plain": [
       "   Year  West\n",
       "0  1980  6.88\n",
       "1  1981  7.42\n",
       "2  1982  9.86\n",
       "3  1983  9.52\n",
       "4  1984  7.53"
      ]
     },
     "execution_count": 6,
     "metadata": {},
     "output_type": "execute_result"
    }
   ],
   "source": [
    "csvpath4 = \"Resources\\WestData.csv\"\n",
    "west_data = pd.DataFrame(pd.read_csv(csvpath4))\n",
    "west_data.head()"
   ]
  },
  {
   "cell_type": "code",
   "execution_count": 7,
   "metadata": {
    "scrolled": true
   },
   "outputs": [
    {
     "data": {
      "text/html": [
       "<div>\n",
       "<style scoped>\n",
       "    .dataframe tbody tr th:only-of-type {\n",
       "        vertical-align: middle;\n",
       "    }\n",
       "\n",
       "    .dataframe tbody tr th {\n",
       "        vertical-align: top;\n",
       "    }\n",
       "\n",
       "    .dataframe thead th {\n",
       "        text-align: right;\n",
       "    }\n",
       "</style>\n",
       "<table border=\"1\" class=\"dataframe\">\n",
       "  <thead>\n",
       "    <tr style=\"text-align: right;\">\n",
       "      <th></th>\n",
       "      <th>Year</th>\n",
       "      <th>United States</th>\n",
       "      <th>South Home Sales</th>\n",
       "      <th>West Home Sales</th>\n",
       "      <th>National Unemployment Rate</th>\n",
       "      <th>South Unemployment Rate</th>\n",
       "      <th>West Unemployment Rate</th>\n",
       "    </tr>\n",
       "  </thead>\n",
       "  <tbody>\n",
       "    <tr>\n",
       "      <th>17</th>\n",
       "      <td>1980</td>\n",
       "      <td>545.0</td>\n",
       "      <td>267.0</td>\n",
       "      <td>145.0</td>\n",
       "      <td>7.175000</td>\n",
       "      <td>6.26</td>\n",
       "      <td>6.88</td>\n",
       "    </tr>\n",
       "    <tr>\n",
       "      <th>18</th>\n",
       "      <td>1981</td>\n",
       "      <td>436.0</td>\n",
       "      <td>219.0</td>\n",
       "      <td>112.0</td>\n",
       "      <td>7.616667</td>\n",
       "      <td>6.85</td>\n",
       "      <td>7.42</td>\n",
       "    </tr>\n",
       "    <tr>\n",
       "      <th>19</th>\n",
       "      <td>1982</td>\n",
       "      <td>412.0</td>\n",
       "      <td>219.0</td>\n",
       "      <td>99.0</td>\n",
       "      <td>9.708333</td>\n",
       "      <td>8.78</td>\n",
       "      <td>9.86</td>\n",
       "    </tr>\n",
       "    <tr>\n",
       "      <th>20</th>\n",
       "      <td>1983</td>\n",
       "      <td>623.0</td>\n",
       "      <td>323.0</td>\n",
       "      <td>152.0</td>\n",
       "      <td>9.600000</td>\n",
       "      <td>9.02</td>\n",
       "      <td>9.52</td>\n",
       "    </tr>\n",
       "    <tr>\n",
       "      <th>21</th>\n",
       "      <td>1984</td>\n",
       "      <td>639.0</td>\n",
       "      <td>309.0</td>\n",
       "      <td>160.0</td>\n",
       "      <td>7.508333</td>\n",
       "      <td>7.06</td>\n",
       "      <td>7.53</td>\n",
       "    </tr>\n",
       "  </tbody>\n",
       "</table>\n",
       "</div>"
      ],
      "text/plain": [
       "    Year  United States  South Home Sales  West Home Sales  \\\n",
       "17  1980          545.0             267.0            145.0   \n",
       "18  1981          436.0             219.0            112.0   \n",
       "19  1982          412.0             219.0             99.0   \n",
       "20  1983          623.0             323.0            152.0   \n",
       "21  1984          639.0             309.0            160.0   \n",
       "\n",
       "    National Unemployment Rate  South Unemployment Rate  \\\n",
       "17                    7.175000                     6.26   \n",
       "18                    7.616667                     6.85   \n",
       "19                    9.708333                     8.78   \n",
       "20                    9.600000                     9.02   \n",
       "21                    7.508333                     7.06   \n",
       "\n",
       "    West Unemployment Rate  \n",
       "17                    6.88  \n",
       "18                    7.42  \n",
       "19                    9.86  \n",
       "20                    9.52  \n",
       "21                    7.53  "
      ]
     },
     "execution_count": 7,
     "metadata": {},
     "output_type": "execute_result"
    }
   ],
   "source": [
    "ca_fl_unemploy_data = pd.merge(add_fl_df, west_data, on=\"Year\", how=\"outer\")\n",
    "ca_fl_unemploy_data = ca_fl_unemploy_data.rename(index=str, columns={'West': 'West Unemployment Rate'})\n",
    "ca_fl_unemploy_data = ca_fl_unemploy_data.dropna(how=\"any\")\n",
    "ca_fl_unemploy_data.head()"
   ]
  },
  {
   "cell_type": "code",
   "execution_count": 8,
   "metadata": {
    "scrolled": true
   },
   "outputs": [
    {
     "data": {
      "image/png": "[encoded data removed]",
      "text/plain": [
       "<Figure size 432x288 with 1 Axes>"
      ]
     },
     "metadata": {
      "needs_background": "light"
     },
     "output_type": "display_data"
    }
   ],
   "source": [
    "ca_fl_unemploy_data.plot(\"Year\", [\"West Unemployment Rate\",\"National Unemployment Rate\", \"South Unemployment Rate\"], kind=\"line\")\n",
    "plt.grid()\n"
   ]
  },
  {
   "cell_type": "code",
   "execution_count": 26,
   "metadata": {
    "scrolled": true
   },
   "outputs": [
    {
     "data": {
      "image/png": "[encoded data removed]",
      "text/plain": [
       "<Figure size 432x288 with 2 Axes>"
      ]
     },
     "metadata": {
      "needs_background": "light"
     },
     "output_type": "display_data"
    }
   ],
   "source": [
    "home_sales=[]\n",
    "for sale in ca_fl_unemploy_data[\"United States\"]:\n",
    "    int_sale=int(sale)\n",
    "    home_sales.append(int_sale)\n",
    "fig, ax1=plt.subplots()\n",
    "x=np.arange(1980,2016)\n",
    "n=ca_fl_unemploy_data['National Unemployment Rate']\n",
    "ax1.plot(x,n, label=\"National Unemployment Rate\")\n",
    "ax2=ax1.twinx()\n",
    "ax2.plot(x,home_sales,color=\"r\",linestyle=\"--\", label='Natl Home Sales')\n",
    "ax1.grid()\n",
    "ax1.set_title('Unemployment v. Home Sales (Natl)')\n",
    "ax1.set_xlabel('Year')\n",
    "ax1.set_ylabel('Unemployment (%)')\n",
    "ax2.set_ylabel('Home Sales (000s)')\n",
    "ax1.legend(loc=\"upper left\")\n",
    "ax2.legend(loc=\"lower left\")\n",
    "plt.savefig('Graph Images/Unemployment_Home_Sales.png')"
   ]
  },
  {
   "cell_type": "code",
   "execution_count": 27,
   "metadata": {},
   "outputs": [
    {
     "data": {
      "image/png": "[encoded data removed]",
      "text/plain": [
       "<Figure size 432x288 with 2 Axes>"
      ]
     },
     "metadata": {
      "needs_background": "light"
     },
     "output_type": "display_data"
    }
   ],
   "source": [
    "south_sales=[]\n",
    "for sale in ca_fl_unemploy_data[\"South Home Sales\"]:\n",
    "    int_south_sale=int(sale)\n",
    "    south_sales.append(int_south_sale)\n",
    "fig, ax3=plt.subplots()\n",
    "x=np.arange(1980,2016)\n",
    "s=ca_fl_unemploy_data['South Unemployment Rate']\n",
    "ax3.plot(x,s, label=\"South Unemployment Rate\")\n",
    "ax4=ax3.twinx()\n",
    "ax4.plot(x,south_sales,color=\"r\",linestyle=\"--\", label='South Home Sales')\n",
    "ax3.grid()\n",
    "ax3.set_title('Unemployment v. Home Sales (South)')\n",
    "ax3.set_xlabel('Year')\n",
    "ax3.set_ylabel('Unemployment (%)')\n",
    "ax4.set_ylabel('Home Sales (000s)')\n",
    "ax3.legend(loc=\"upper left\")\n",
    "ax4.legend(loc=\"lower left\")\n",
    "plt.savefig('Graph Images/Unemployment_South_Sales.png')"
   ]
  },
  {
   "cell_type": "code",
   "execution_count": 28,
   "metadata": {},
   "outputs": [
    {
     "data": {
      "image/png": "[encoded data removed]",
      "text/plain": [
       "<Figure size 432x288 with 2 Axes>"
      ]
     },
     "metadata": {
      "needs_background": "light"
     },
     "output_type": "display_data"
    }
   ],
   "source": [
    "west_sales=[]\n",
    "for sale in ca_fl_unemploy_data[\"West Home Sales\"]:\n",
    "    int_west_sale=int(sale)\n",
    "    west_sales.append(int_west_sale)\n",
    "fig, ax5=plt.subplots()\n",
    "x=np.arange(1980,2016)\n",
    "w=ca_fl_unemploy_data['West Unemployment Rate']\n",
    "ax5.plot(x,w, label=\"West Unemployment Rate\")\n",
    "ax6=ax5.twinx()\n",
    "ax6.plot(x,west_sales,color=\"r\",linestyle=\"--\", label='West Home Sales')\n",
    "ax5.grid()\n",
    "ax5.set_title('Unemployment v. Home Sales (West)')\n",
    "ax5.set_xlabel('Year')\n",
    "ax5.set_ylabel('Unemployment (%)')\n",
    "ax6.set_ylabel('Home Sales (000s)')\n",
    "ax5.legend(loc=\"upper left\")\n",
    "ax6.legend(loc=\"lower left\")\n",
    "plt.savefig('Graph Images/Unemployment_West_Sales.png')"
   ]
  },
  {
   "cell_type": "code",
   "execution_count": 12,
   "metadata": {},
   "outputs": [
    {
     "data": {
      "text/plain": [
       "Ttest_indResult(statistic=16.499255976324314, pvalue=4.37924258935584e-18)"
      ]
     },
     "execution_count": 12,
     "metadata": {},
     "output_type": "execute_result"
    }
   ],
   "source": [
    "#ttest of National Unemployment and National Home Sales\n",
    "stats.ttest_ind(home_sales,ca_fl_unemploy_data['National Unemployment Rate'], equal_var=False )"
   ]
  },
  {
   "cell_type": "code",
   "execution_count": 13,
   "metadata": {},
   "outputs": [
    {
     "data": {
      "text/plain": [
       "Ttest_indResult(statistic=14.552026056945616, pvalue=2.018052542030696e-16)"
      ]
     },
     "execution_count": 13,
     "metadata": {},
     "output_type": "execute_result"
    }
   ],
   "source": [
    "#ttest of West Unemployment and West Home Sales\n",
    "stats.ttest_ind(west_sales,ca_fl_unemploy_data['West Unemployment Rate'], equal_var=False )"
   ]
  },
  {
   "cell_type": "code",
   "execution_count": 14,
   "metadata": {},
   "outputs": [
    {
     "data": {
      "text/plain": [
       "Ttest_indResult(statistic=16.51519491933106, pvalue=4.225900660914583e-18)"
      ]
     },
     "execution_count": 14,
     "metadata": {},
     "output_type": "execute_result"
    }
   ],
   "source": [
    "#ttest of South Unemployment and South Home Sales\n",
    "stats.ttest_ind(south_sales,ca_fl_unemploy_data['South Unemployment Rate'], equal_var=False )"
   ]
  },
  {
   "cell_type": "code",
   "execution_count": null,
   "metadata": {},
   "outputs": [],
   "source": []
  },
  {
   "cell_type": "code",
   "execution_count": 20,
   "metadata": {},
   "outputs": [
    {
     "name": "stdout",
     "output_type": "stream",
     "text": [
      "-0.6449103431397425 -0.6814470807072108 -0.6664071297074259\n"
     ]
    }
   ],
   "source": [
    "print(ca_fl_unemploy_data['South Home Sales'].corr(ca_fl_unemploy_data['South Unemployment Rate']),\n",
    "ca_fl_unemploy_data['West Home Sales'].corr(ca_fl_unemploy_data['West Unemployment Rate']),\n",
    "ca_fl_unemploy_data['United States'].corr(ca_fl_unemploy_data['National Unemployment Rate']))"
   ]
  },
  {
   "cell_type": "code",
   "execution_count": 18,
   "metadata": {},
   "outputs": [
    {
     "name": "stdout",
     "output_type": "stream",
     "text": [
      "-0.7419582110911161 -0.6993472997592431 -0.7143523027140225\n"
     ]
    }
   ],
   "source": [
    "\n",
    "unemp_post_TwoK= ca_fl_unemploy_data[20:37]\n",
    "print(unemp_post_TwoK['South Home Sales'].corr(unemp_post_TwoK['South Unemployment Rate']),\n",
    "unemp_post_TwoK['West Home Sales'].corr(unemp_post_TwoK['West Unemployment Rate']),\n",
    "unemp_post_TwoK['United States'].corr(unemp_post_TwoK['National Unemployment Rate']))"
   ]
  },
  {
   "cell_type": "code",
   "execution_count": 19,
   "metadata": {},
   "outputs": [
    {
     "name": "stdout",
     "output_type": "stream",
     "text": [
      "-0.503204428841099 -0.7013954367040901 -0.6934997419289777\n"
     ]
    }
   ],
   "source": [
    "\n",
    "unemp_pre_TwoK= ca_fl_unemploy_data[0:20]\n",
    "print(unemp_pre_TwoK['South Home Sales'].corr(unemp_pre_TwoK['South Unemployment Rate']),\n",
    "unemp_pre_TwoK['West Home Sales'].corr(unemp_pre_TwoK['West Unemployment Rate']),\n",
    "unemp_pre_TwoK['United States'].corr(unemp_pre_TwoK['National Unemployment Rate']))"
   ]
  },
  {
   "cell_type": "code",
   "execution_count": null,
   "metadata": {},
   "outputs": [],
   "source": []
  }
 ],
 "metadata": {
  "kernelspec": {
   "display_name": "Python 3",
   "language": "python",
   "name": "python3"
  },
  "language_info": {
   "codemirror_mode": {
    "name": "ipython",
    "version": 3
   },
   "file_extension": ".py",
   "mimetype": "text/x-python",
   "name": "python",
   "nbconvert_exporter": "python",
   "pygments_lexer": "ipython3",
   "version": "3.7.1"
  }
 },
 "nbformat": 4,
 "nbformat_minor": 2
}
