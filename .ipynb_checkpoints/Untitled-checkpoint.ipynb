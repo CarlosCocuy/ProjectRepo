{
 "cells": [
  {
   "cell_type": "code",
   "execution_count": 1,
   "metadata": {},
   "outputs": [],
   "source": [
    "import pandas as pd\n",
    "import numpy as np\n",
    "import csv"
   ]
  },
  {
   "cell_type": "code",
   "execution_count": 4,
   "metadata": {},
   "outputs": [
    {
     "data": {
      "text/html": [
       "<div>\n",
       "<style scoped>\n",
       "    .dataframe tbody tr th:only-of-type {\n",
       "        vertical-align: middle;\n",
       "    }\n",
       "\n",
       "    .dataframe tbody tr th {\n",
       "        vertical-align: top;\n",
       "    }\n",
       "\n",
       "    .dataframe thead th {\n",
       "        text-align: right;\n",
       "    }\n",
       "</style>\n",
       "<table border=\"1\" class=\"dataframe\">\n",
       "  <thead>\n",
       "    <tr style=\"text-align: right;\">\n",
       "      <th></th>\n",
       "      <th>RegionID</th>\n",
       "      <th>RegionName</th>\n",
       "      <th>SizeRank</th>\n",
       "      <th>2008-03</th>\n",
       "      <th>2008-04</th>\n",
       "      <th>2008-05</th>\n",
       "      <th>2008-06</th>\n",
       "      <th>2008-07</th>\n",
       "      <th>2008-08</th>\n",
       "      <th>2008-09</th>\n",
       "      <th>...</th>\n",
       "      <th>2018-04</th>\n",
       "      <th>2018-05</th>\n",
       "      <th>2018-06</th>\n",
       "      <th>2018-07</th>\n",
       "      <th>2018-08</th>\n",
       "      <th>2018-09</th>\n",
       "      <th>2018-10</th>\n",
       "      <th>2018-11</th>\n",
       "      <th>2018-12</th>\n",
       "      <th>2019-01</th>\n",
       "    </tr>\n",
       "  </thead>\n",
       "  <tbody>\n",
       "    <tr>\n",
       "      <th>0</th>\n",
       "      <td>9</td>\n",
       "      <td>California</td>\n",
       "      <td>1</td>\n",
       "      <td>23418</td>\n",
       "      <td>28506</td>\n",
       "      <td>31284</td>\n",
       "      <td>32960</td>\n",
       "      <td>36582</td>\n",
       "      <td>35222</td>\n",
       "      <td>36309</td>\n",
       "      <td>...</td>\n",
       "      <td>42181</td>\n",
       "      <td>46524</td>\n",
       "      <td>46633</td>\n",
       "      <td>43935</td>\n",
       "      <td>44853</td>\n",
       "      <td>34292</td>\n",
       "      <td>38796</td>\n",
       "      <td>33345</td>\n",
       "      <td>30855</td>\n",
       "      <td>NaN</td>\n",
       "    </tr>\n",
       "    <tr>\n",
       "      <th>1</th>\n",
       "      <td>14</td>\n",
       "      <td>Florida</td>\n",
       "      <td>4</td>\n",
       "      <td>17441</td>\n",
       "      <td>19492</td>\n",
       "      <td>19712</td>\n",
       "      <td>20466</td>\n",
       "      <td>20890</td>\n",
       "      <td>17541</td>\n",
       "      <td>17767</td>\n",
       "      <td>...</td>\n",
       "      <td>46234</td>\n",
       "      <td>48873</td>\n",
       "      <td>47934</td>\n",
       "      <td>45787</td>\n",
       "      <td>45932</td>\n",
       "      <td>37299</td>\n",
       "      <td>40850</td>\n",
       "      <td>37060</td>\n",
       "      <td>36669</td>\n",
       "      <td>NaN</td>\n",
       "    </tr>\n",
       "  </tbody>\n",
       "</table>\n",
       "<p>2 rows × 134 columns</p>\n",
       "</div>"
      ],
      "text/plain": [
       "   RegionID  RegionName  SizeRank  2008-03  2008-04  2008-05  2008-06  \\\n",
       "0         9  California         1    23418    28506    31284    32960   \n",
       "1        14     Florida         4    17441    19492    19712    20466   \n",
       "\n",
       "   2008-07  2008-08  2008-09   ...     2018-04  2018-05  2018-06  2018-07  \\\n",
       "0    36582    35222    36309   ...       42181    46524    46633    43935   \n",
       "1    20890    17541    17767   ...       46234    48873    47934    45787   \n",
       "\n",
       "   2018-08  2018-09  2018-10  2018-11  2018-12  2019-01  \n",
       "0    44853    34292    38796    33345    30855      NaN  \n",
       "1    45932    37299    40850    37060    36669      NaN  \n",
       "\n",
       "[2 rows x 134 columns]"
      ]
     },
     "execution_count": 4,
     "metadata": {},
     "output_type": "execute_result"
    }
   ],
   "source": [
    "monthlystates=pd.read_csv('Resources/Sale_Counts_State.csv')\n",
    "monthlystates"
   ]
  },
  {
   "cell_type": "code",
   "execution_count": 12,
   "metadata": {},
   "outputs": [
    {
     "name": "stdout",
     "output_type": "stream",
     "text": [
      "{'message': 'Unauthorized'}\n"
     ]
    }
   ],
   "source": [
    "\n"
   ]
  },
  {
   "cell_type": "code",
   "execution_count": null,
   "metadata": {},
   "outputs": [],
   "source": []
  }
 ],
 "metadata": {
  "kernelspec": {
   "display_name": "Python 3",
   "language": "python",
   "name": "python3"
  },
  "language_info": {
   "codemirror_mode": {
    "name": "ipython",
    "version": 3
   },
   "file_extension": ".py",
   "mimetype": "text/x-python",
   "name": "python",
   "nbconvert_exporter": "python",
   "pygments_lexer": "ipython3",
   "version": "3.7.1"
  }
 },
 "nbformat": 4,
 "nbformat_minor": 2
}
